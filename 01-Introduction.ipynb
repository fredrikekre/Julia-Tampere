{
 "cells": [
  {
   "cell_type": "markdown",
   "source": [
    "# Introduction\n",
    "\n",
    "Fredrik Ekre, f.ekre@tu-braunschweig.de"
   ],
   "metadata": {}
  },
  {
   "cell_type": "markdown",
   "source": [
    "## What is Julia?\n",
    "\n",
    "Julia is:\n",
    "- a programming language (like C, C++, Python, ...)\n",
    "- free and open source (MIT license)\n",
    "- relatively new, first public in 2012, version 1.0 in 2018 (C 1972, C++ 1985, Python\n",
    "  1992)\n",
    "- general (scientific computing, web applications, machine learning, ...)\n",
    "- dynamic and high-level (like Python)\n",
    "- fast (like C/C++) by compiling to native code using the LLVM compiler infrastructure\n",
    "- transparent; most of Julia is written in Julia\n",
    "- fun!"
   ],
   "metadata": {}
  },
  {
   "cell_type": "markdown",
   "source": [
    "### Micro benchmarks\n",
    "\n",
    "![](benchmarks.png)"
   ],
   "metadata": {}
  },
  {
   "cell_type": "markdown",
   "source": [
    "### Two language problem\n",
    "\n",
    "One motivation for Julia is to solve the \"two language problem\" where you prototype in a\n",
    "high-level language (like Python), re-write \"final\" code in a low level language (like C,\n",
    "C++) for performance. With Julia you can do both."
   ],
   "metadata": {}
  },
  {
   "cell_type": "markdown",
   "source": [
    "### Useful resources\n",
    "\n",
    "- [Julia project homepage](https://julialang.org)\n",
    "- [GitHub repository](https://github.com/JuliaLang/julia)\n",
    "- [Documentation](https://docs.julialang.org)\n",
    "- [Discussion forum](https://discourse.julialang.org)\n",
    "- Chat forums:\n",
    "   - [Slack](https://julialang.org/slack/)\n",
    "   - [Zulip](https://julialang.zulipchat.com/)"
   ],
   "metadata": {}
  },
  {
   "cell_type": "markdown",
   "source": [
    "## Julia syntax crash course"
   ],
   "metadata": {}
  },
  {
   "cell_type": "markdown",
   "source": [
    "### Number types\n",
    "\n",
    "Manual section: https://docs.julialang.org/en/v1/manual/integers-and-floating-point-numbers/"
   ],
   "metadata": {}
  },
  {
   "cell_type": "markdown",
   "source": [
    "#### Integers"
   ],
   "metadata": {}
  },
  {
   "cell_type": "markdown",
   "source": [
    "Literal integer (64-bit)"
   ],
   "metadata": {}
  },
  {
   "outputs": [],
   "cell_type": "code",
   "source": [
    "123"
   ],
   "metadata": {},
   "execution_count": null
  },
  {
   "cell_type": "markdown",
   "source": [
    "The typeof function return the type of the input argument"
   ],
   "metadata": {}
  },
  {
   "outputs": [],
   "cell_type": "code",
   "source": [
    "typeof(123)"
   ],
   "metadata": {},
   "execution_count": null
  },
  {
   "cell_type": "markdown",
   "source": [
    "#### Floats"
   ],
   "metadata": {}
  },
  {
   "cell_type": "markdown",
   "source": [
    "Literal Float64 (double precision, 64-bit)"
   ],
   "metadata": {}
  },
  {
   "outputs": [],
   "cell_type": "code",
   "source": [
    "123.0"
   ],
   "metadata": {},
   "execution_count": null
  },
  {
   "cell_type": "markdown",
   "source": [
    "Scientific notation"
   ],
   "metadata": {}
  },
  {
   "outputs": [],
   "cell_type": "code",
   "source": [
    "456e7 # 456.0 * 10^7"
   ],
   "metadata": {},
   "execution_count": null
  },
  {
   "cell_type": "markdown",
   "source": [
    "Literal Float32 (single precision, 32-bit)"
   ],
   "metadata": {}
  },
  {
   "outputs": [],
   "cell_type": "code",
   "source": [
    "456f7"
   ],
   "metadata": {},
   "execution_count": null
  },
  {
   "cell_type": "markdown",
   "source": [
    "#### Complex numbers\n",
    "\n",
    "Imaginary number spelled `im` in Julia.\n",
    "\n",
    "ComplexF64 (complex number with Float64 for both real and imaginary components)"
   ],
   "metadata": {}
  },
  {
   "outputs": [],
   "cell_type": "code",
   "source": [
    "z = 2.0 + 4.0 * im"
   ],
   "metadata": {},
   "execution_count": null
  },
  {
   "outputs": [],
   "cell_type": "code",
   "source": [
    "typeof(z)"
   ],
   "metadata": {},
   "execution_count": null
  },
  {
   "cell_type": "markdown",
   "source": [
    "Implicit multiplication with variables, im in this case"
   ],
   "metadata": {}
  },
  {
   "outputs": [],
   "cell_type": "code",
   "source": [
    "2 + 3im # 2 + 3 * im"
   ],
   "metadata": {},
   "execution_count": null
  },
  {
   "cell_type": "markdown",
   "source": [
    "#### Rational numbers"
   ],
   "metadata": {}
  },
  {
   "outputs": [],
   "cell_type": "code",
   "source": [
    "6 // 8"
   ],
   "metadata": {},
   "execution_count": null
  },
  {
   "cell_type": "markdown",
   "source": [
    "#### Irrational numbers"
   ],
   "metadata": {}
  },
  {
   "cell_type": "markdown",
   "source": [
    "Irrational constant which is \"exact\" (rounded appropriately for the context\n",
    "where it is used)"
   ],
   "metadata": {}
  },
  {
   "outputs": [],
   "cell_type": "code",
   "source": [
    "pi"
   ],
   "metadata": {},
   "execution_count": null
  },
  {
   "cell_type": "markdown",
   "source": [
    "Multiplication with integer returns Float64"
   ],
   "metadata": {}
  },
  {
   "outputs": [],
   "cell_type": "code",
   "source": [
    "typeof(2 * pi) # Int64 * Irrational -> Float64"
   ],
   "metadata": {},
   "execution_count": null
  },
  {
   "cell_type": "markdown",
   "source": [
    "Unicode variable names"
   ],
   "metadata": {}
  },
  {
   "outputs": [],
   "cell_type": "code",
   "source": [
    "π # \\pi<TAB> in most editors"
   ],
   "metadata": {},
   "execution_count": null
  },
  {
   "cell_type": "markdown",
   "source": [
    "### Variables\n",
    "\n",
    "Manual section: https://docs.julialang.org/en/v1/manual/variables/"
   ],
   "metadata": {}
  },
  {
   "outputs": [],
   "cell_type": "code",
   "source": [
    "a = 123\n",
    "b = 456.0"
   ],
   "metadata": {},
   "execution_count": null
  },
  {
   "cell_type": "markdown",
   "source": [
    "Unicode variable sometimes helps with readability when implementing\n",
    "mathematical formulas"
   ],
   "metadata": {}
  },
  {
   "outputs": [],
   "cell_type": "code",
   "source": [
    "τ = 2pi"
   ],
   "metadata": {},
   "execution_count": null
  },
  {
   "cell_type": "markdown",
   "source": [
    "### Arithmetic operations\n",
    "Manual section: https://docs.julialang.org/en/v1/manual/mathematical-operations/\n",
    "\n",
    "Mathematical operators and functions work as expected. Julia is smart with\n",
    "promoting the types of the arguments to a common type before computing the\n",
    "result."
   ],
   "metadata": {}
  },
  {
   "outputs": [],
   "cell_type": "code",
   "source": [
    "123 + 456 # Int64 + Int64 -> Int64"
   ],
   "metadata": {},
   "execution_count": null
  },
  {
   "outputs": [],
   "cell_type": "code",
   "source": [
    "123e2 - 456f2 # Float64 - Float32 -> Float64"
   ],
   "metadata": {},
   "execution_count": null
  },
  {
   "outputs": [],
   "cell_type": "code",
   "source": [
    "123 * 456 # Int64 * Int64 -> Int64"
   ],
   "metadata": {},
   "execution_count": null
  },
  {
   "outputs": [],
   "cell_type": "code",
   "source": [
    "123 / 456 # Int64 / Int64 -> Float64"
   ],
   "metadata": {},
   "execution_count": null
  },
  {
   "outputs": [],
   "cell_type": "code",
   "source": [
    "0.987 ^ 3"
   ],
   "metadata": {},
   "execution_count": null
  },
  {
   "outputs": [],
   "cell_type": "code",
   "source": [
    "√(2) # \\sqrt<TAB>, alternatively: sqrt(2)"
   ],
   "metadata": {},
   "execution_count": null
  },
  {
   "cell_type": "markdown",
   "source": [
    "Integer division"
   ],
   "metadata": {}
  },
  {
   "outputs": [],
   "cell_type": "code",
   "source": [
    "456 ÷ 123 # \\div<TAB>, alternatively: div(456, 123)"
   ],
   "metadata": {},
   "execution_count": null
  },
  {
   "cell_type": "markdown",
   "source": [
    "### Arrays\n",
    "\n",
    "Manual section: https://docs.julialang.org/en/v1/manual/arrays/\n",
    "\n",
    "Julia has built in support for multi-dimensional arrays. There are also many\n",
    "other implementations of arrays for different purposes and with different\n",
    "properties."
   ],
   "metadata": {}
  },
  {
   "cell_type": "markdown",
   "source": [
    "#### Vectors (1D-arrays)"
   ],
   "metadata": {}
  },
  {
   "outputs": [],
   "cell_type": "code",
   "source": [
    "x = [1, 2, 3]"
   ],
   "metadata": {},
   "execution_count": null
  },
  {
   "cell_type": "markdown",
   "source": [
    "The eltype function returns the type of the elements of the array"
   ],
   "metadata": {}
  },
  {
   "outputs": [],
   "cell_type": "code",
   "source": [
    "eltype(x)"
   ],
   "metadata": {},
   "execution_count": null
  },
  {
   "cell_type": "markdown",
   "source": [
    "Vector of length 5 initialized with zeros (Float64)"
   ],
   "metadata": {}
  },
  {
   "outputs": [],
   "cell_type": "code",
   "source": [
    "zeros(5)"
   ],
   "metadata": {},
   "execution_count": null
  },
  {
   "cell_type": "markdown",
   "source": [
    "Zero-initialized vector with specified element type"
   ],
   "metadata": {}
  },
  {
   "outputs": [],
   "cell_type": "code",
   "source": [
    "x = zeros(Int, 5)"
   ],
   "metadata": {},
   "execution_count": null
  },
  {
   "cell_type": "markdown",
   "source": [
    "#### Matrices (2D-arrays)"
   ],
   "metadata": {}
  },
  {
   "outputs": [],
   "cell_type": "code",
   "source": [
    "[1 2; 3 4]"
   ],
   "metadata": {},
   "execution_count": null
  },
  {
   "cell_type": "markdown",
   "source": [
    "`rand` can be used to sample values randomly in the interval [0, 1)"
   ],
   "metadata": {}
  },
  {
   "outputs": [],
   "cell_type": "code",
   "source": [
    "rand(3, 2)"
   ],
   "metadata": {},
   "execution_count": null
  },
  {
   "cell_type": "markdown",
   "source": [
    "#### Higher dimensional arrays"
   ],
   "metadata": {}
  },
  {
   "outputs": [],
   "cell_type": "code",
   "source": [
    "rand(2, 3, 4, 5, 6)"
   ],
   "metadata": {},
   "execution_count": null
  },
  {
   "cell_type": "markdown",
   "source": [
    "#### Indexing\n",
    "\n",
    "Square brackets [] are used to index into arrays. The default array\n",
    "implementation is 1-based and column-major (\"first index moves fastest\")."
   ],
   "metadata": {}
  },
  {
   "outputs": [],
   "cell_type": "code",
   "source": [
    "x = rand(3)"
   ],
   "metadata": {},
   "execution_count": null
  },
  {
   "outputs": [],
   "cell_type": "code",
   "source": [
    "x[1]"
   ],
   "metadata": {},
   "execution_count": null
  },
  {
   "outputs": [],
   "cell_type": "code",
   "source": [
    "x[2] + x[3]"
   ],
   "metadata": {},
   "execution_count": null
  },
  {
   "cell_type": "markdown",
   "source": [
    "Multi-dimensional arrays are indexed with one index per dimension"
   ],
   "metadata": {}
  },
  {
   "outputs": [],
   "cell_type": "code",
   "source": [
    "A = [1 3 5; 2 4 6]"
   ],
   "metadata": {},
   "execution_count": null
  },
  {
   "outputs": [],
   "cell_type": "code",
   "source": [
    "A[1, 2] # row 1, col 2"
   ],
   "metadata": {},
   "execution_count": null
  },
  {
   "cell_type": "markdown",
   "source": [
    "Slicing arrays with : (colon) selects all columns/rows/..."
   ],
   "metadata": {}
  },
  {
   "outputs": [],
   "cell_type": "code",
   "source": [
    "A[:, 2] # all rows, column 2"
   ],
   "metadata": {},
   "execution_count": null
  },
  {
   "outputs": [],
   "cell_type": "code",
   "source": [
    "A[2, :] # row 2, all columns"
   ],
   "metadata": {},
   "execution_count": null
  },
  {
   "cell_type": "markdown",
   "source": [
    "Selecting multiple entries"
   ],
   "metadata": {}
  },
  {
   "outputs": [],
   "cell_type": "code",
   "source": [
    "A[[2, 1], 2] # rows 2 and 1 (in that order!), column 2"
   ],
   "metadata": {},
   "execution_count": null
  },
  {
   "cell_type": "markdown",
   "source": [
    "Indexing returns a newly allocated array -- modifying the result does *not*\n",
    "modify the original array.\n",
    "\n",
    "Julia also has array views that can be used to i) avoid the allocation of a\n",
    "new array and ii) modify the original array memory."
   ],
   "metadata": {}
  },
  {
   "outputs": [],
   "cell_type": "code",
   "source": [
    "row2 = view(A, 2, :)"
   ],
   "metadata": {},
   "execution_count": null
  },
  {
   "outputs": [],
   "cell_type": "code",
   "source": [
    "typeof(row2)"
   ],
   "metadata": {},
   "execution_count": null
  },
  {
   "cell_type": "markdown",
   "source": [
    "Modify the view"
   ],
   "metadata": {}
  },
  {
   "outputs": [],
   "cell_type": "code",
   "source": [
    "row2[2] = 123"
   ],
   "metadata": {},
   "execution_count": null
  },
  {
   "cell_type": "markdown",
   "source": [
    "Verify that A is now also changed"
   ],
   "metadata": {}
  },
  {
   "outputs": [],
   "cell_type": "code",
   "source": [
    "A"
   ],
   "metadata": {},
   "execution_count": null
  },
  {
   "cell_type": "markdown",
   "source": [
    "There is also a *macro* to make view-syntax a bit easier. Macros rewrite\n",
    "expressions to another expression before it is evalutated. Macros in Julia\n",
    "starts with @."
   ],
   "metadata": {}
  },
  {
   "outputs": [],
   "cell_type": "code",
   "source": [
    "@view A[2, :] # Rewritten to view(A, 2, :)"
   ],
   "metadata": {},
   "execution_count": null
  },
  {
   "cell_type": "markdown",
   "source": [
    "### map, reduce, mapreduce"
   ],
   "metadata": {}
  },
  {
   "outputs": [],
   "cell_type": "code",
   "source": [
    "x = [1.0, 2.0, 3.0]"
   ],
   "metadata": {},
   "execution_count": null
  },
  {
   "outputs": [],
   "cell_type": "code",
   "source": [
    "sum(x)"
   ],
   "metadata": {},
   "execution_count": null
  },
  {
   "outputs": [],
   "cell_type": "code",
   "source": [
    "reduce(+, x)"
   ],
   "metadata": {},
   "execution_count": null
  },
  {
   "outputs": [],
   "cell_type": "code",
   "source": [
    "reduce(*, x)"
   ],
   "metadata": {},
   "execution_count": null
  },
  {
   "outputs": [],
   "cell_type": "code",
   "source": [
    "map(sqrt, x)"
   ],
   "metadata": {},
   "execution_count": null
  },
  {
   "outputs": [],
   "cell_type": "code",
   "source": [
    "mapreduce(sqrt, +, x) # reduce(+, map(sqrt, x)) but in one step"
   ],
   "metadata": {},
   "execution_count": null
  },
  {
   "cell_type": "markdown",
   "source": [
    "Broadcasting\n",
    "\n",
    "\"Element wise application of functions with automatic reshaping\".\n",
    "Broadcasting is done using . (dot) for functions and operators. Works for\n",
    "*any* function, including user functions."
   ],
   "metadata": {}
  },
  {
   "cell_type": "markdown",
   "source": [
    "In this example we broadcast `+` between a vector (x) and a number (y). This\n",
    "will add the number to all entries of the vector. The number is virtually\n",
    "extended to the same size as x."
   ],
   "metadata": {}
  },
  {
   "outputs": [],
   "cell_type": "code",
   "source": [
    "y = rand()\n",
    "x .+ y"
   ],
   "metadata": {},
   "execution_count": null
  },
  {
   "cell_type": "markdown",
   "source": [
    "Broadcasting between two vectors of the same length also work (although this\n",
    "is an operation that make sense also for the regular `+` operator -- adding\n",
    "vectors is rather common concept after all)."
   ],
   "metadata": {}
  },
  {
   "outputs": [],
   "cell_type": "code",
   "source": [
    "y = rand(length(x))\n",
    "x .+ y"
   ],
   "metadata": {},
   "execution_count": null
  },
  {
   "outputs": [],
   "cell_type": "code",
   "source": [
    "x + y"
   ],
   "metadata": {},
   "execution_count": null
  },
  {
   "cell_type": "markdown",
   "source": [
    "Here we add a vector of size (3,) with a matrix of size (3, 4). The vector is\n",
    "extended 4 times in the second dimension to also have (virtual) size (3, 4)."
   ],
   "metadata": {}
  },
  {
   "outputs": [],
   "cell_type": "code",
   "source": [
    "y = rand(length(x), 4)\n",
    "x .+ y"
   ],
   "metadata": {},
   "execution_count": null
  },
  {
   "cell_type": "markdown",
   "source": [
    "### Linear algebra\n",
    "\n",
    "Manual section: https://docs.julialang.org/en/v1/stdlib/LinearAlgebra/\n",
    "\n",
    "Julia has built-in linear algebra support which utilizes LAPACK and OpenBLAS\n",
    "(by default)."
   ],
   "metadata": {}
  },
  {
   "outputs": [],
   "cell_type": "code",
   "source": [
    "using LinearAlgebra\n",
    "\n",
    "A = rand(2, 2)\n",
    "b = rand(2)"
   ],
   "metadata": {},
   "execution_count": null
  },
  {
   "cell_type": "markdown",
   "source": [
    "Matrix-vector multiplication"
   ],
   "metadata": {}
  },
  {
   "outputs": [],
   "cell_type": "code",
   "source": [
    "A * b"
   ],
   "metadata": {},
   "execution_count": null
  },
  {
   "cell_type": "markdown",
   "source": [
    "Solving linear system Ax = b (using LU factorization by default)"
   ],
   "metadata": {}
  },
  {
   "outputs": [],
   "cell_type": "code",
   "source": [
    "A \\ b"
   ],
   "metadata": {},
   "execution_count": null
  },
  {
   "cell_type": "markdown",
   "source": [
    "### Strings"
   ],
   "metadata": {}
  },
  {
   "outputs": [],
   "cell_type": "code",
   "source": [
    "str = \"Hello, Tampere\""
   ],
   "metadata": {},
   "execution_count": null
  },
  {
   "outputs": [],
   "cell_type": "code",
   "source": [
    "println(str) # println = print + newline"
   ],
   "metadata": {},
   "execution_count": null
  },
  {
   "cell_type": "markdown",
   "source": [
    "Joining strings is done with * (or the string function)"
   ],
   "metadata": {}
  },
  {
   "outputs": [],
   "cell_type": "code",
   "source": [
    "str2 = str * \"!\""
   ],
   "metadata": {},
   "execution_count": null
  },
  {
   "cell_type": "markdown",
   "source": [
    "Lots of string functions (searching, replacing, regex support, ...)"
   ],
   "metadata": {}
  },
  {
   "outputs": [],
   "cell_type": "code",
   "source": [
    "str3 = replace(str2, \"Tampere\" => \"Tammerfors\")"
   ],
   "metadata": {},
   "execution_count": null
  },
  {
   "cell_type": "markdown",
   "source": [
    "String interpolation using $(...) replaces with string representation of the\n",
    "... expression"
   ],
   "metadata": {}
  },
  {
   "outputs": [],
   "cell_type": "code",
   "source": [
    "name = \"Fredrik\"\n",
    "str = \"Hello $(name)\""
   ],
   "metadata": {},
   "execution_count": null
  },
  {
   "outputs": [],
   "cell_type": "code",
   "source": [
    "x = [1, 2, 3]\n",
    "str = \"x = $(x)\""
   ],
   "metadata": {},
   "execution_count": null
  },
  {
   "outputs": [],
   "cell_type": "code",
   "source": [
    "str = \"Random number: $(rand())\""
   ],
   "metadata": {},
   "execution_count": null
  },
  {
   "cell_type": "markdown",
   "source": [
    "### Functions\n",
    "\n",
    "Functions in Julia are defined with the keyword `function`:"
   ],
   "metadata": {}
  },
  {
   "outputs": [],
   "cell_type": "code",
   "source": [
    "function f()\n",
    "    return sqrt(2)\n",
    "end\n",
    "f()"
   ],
   "metadata": {},
   "execution_count": null
  },
  {
   "cell_type": "markdown",
   "source": [
    "For \"one-liners\" there is also a shorter syntax:"
   ],
   "metadata": {}
  },
  {
   "outputs": [],
   "cell_type": "code",
   "source": [
    "g() = sin(pi)\n",
    "g()"
   ],
   "metadata": {},
   "execution_count": null
  },
  {
   "cell_type": "markdown",
   "source": [
    "The `return` keyword is optional, but for clarity it is usually preferred. If\n",
    "there is no `return` statement in a function the value of the last expression\n",
    "will be returned. In the example below `sqrt(2)` is the last expression or\n",
    "statement and will be the return value."
   ],
   "metadata": {}
  },
  {
   "outputs": [],
   "cell_type": "code",
   "source": [
    "function f2()\n",
    "    x = 2\n",
    "    sqrt(x)\n",
    "end"
   ],
   "metadata": {},
   "execution_count": null
  },
  {
   "cell_type": "markdown",
   "source": [
    "Functions can have *positional* and *keyword* (named) arguments. Typically\n",
    "keyword arguments are used for optional arguments and therefore often have\n",
    "default values. Keyword arguments are separated by using ; (semi-colon)\n",
    "instead of , (comma) in the argument list.\n",
    "\n",
    "Here is a function with two positional arguments (x and y) and a keyword\n",
    "argument `verbose` with default value `false`."
   ],
   "metadata": {}
  },
  {
   "outputs": [],
   "cell_type": "code",
   "source": [
    "function h(x, y; verbose=false)\n",
    "    z = x * y\n",
    "    if verbose\n",
    "        println(\"I computed $(x) * $(y) and will return $(z)\")\n",
    "    end\n",
    "    return z\n",
    "end\n",
    "\n",
    "h(2, 3)\n",
    "h(2, 3; verbose = false)\n",
    "h(2, 3; verbose = true)"
   ],
   "metadata": {},
   "execution_count": null
  },
  {
   "cell_type": "markdown",
   "source": [
    "Functions can return multiple values: `findmax` return the value, and the index"
   ],
   "metadata": {}
  },
  {
   "outputs": [],
   "cell_type": "code",
   "source": [
    "x = [4, 5, 1]\n",
    "val, idx = findmax(x)"
   ],
   "metadata": {},
   "execution_count": null
  },
  {
   "cell_type": "markdown",
   "source": [
    "Functions that don't have anything useful to return usually return `nothing`."
   ],
   "metadata": {}
  },
  {
   "outputs": [],
   "cell_type": "code",
   "source": [
    "x = println(\"hello\")\n",
    "typeof(x)"
   ],
   "metadata": {},
   "execution_count": null
  },
  {
   "cell_type": "markdown",
   "source": [
    "#### Anonymous functions\n",
    "Julia also support anonymous functions which is useful when you construct a\n",
    "function \"on the fly\". Anonymous functions are defined using `->`, or using the `function` keyword without a name:"
   ],
   "metadata": {}
  },
  {
   "outputs": [],
   "cell_type": "code",
   "source": [
    "ff = x -> x^2\n",
    "\n",
    "gg = function(x)\n",
    "    return x^2\n",
    "end"
   ],
   "metadata": {},
   "execution_count": null
  },
  {
   "cell_type": "markdown",
   "source": [
    "Common use case is to pass to higher order functions like `map`:"
   ],
   "metadata": {}
  },
  {
   "outputs": [],
   "cell_type": "code",
   "source": [
    "x = [1, 2, 3]\n",
    "map(x -> x^2, x)"
   ],
   "metadata": {},
   "execution_count": null
  },
  {
   "cell_type": "markdown",
   "source": [
    "### Structs (user defined types)\n",
    "\n",
    "Manual section: https://docs.julialang.org/en/v1/manual/types/#Composite-Types\n",
    "\n",
    "Structs are used to collect data. A typical example could be simulation\n",
    "parameters. By convention structs (and types in general) use PascalCase. In\n",
    "this example we define a struct called `SimulationParameters` wich a field\n",
    "`a` of type `Int`, and field `b` of type `String`:"
   ],
   "metadata": {}
  },
  {
   "outputs": [],
   "cell_type": "code",
   "source": [
    "struct SimulationParameters\n",
    "    a::Int\n",
    "    b::String\n",
    "end"
   ],
   "metadata": {},
   "execution_count": null
  },
  {
   "cell_type": "markdown",
   "source": [
    "We can construct an instance of this new struct by using the (default)\n",
    "constructor which simply takes two arguments: a and b."
   ],
   "metadata": {}
  },
  {
   "outputs": [],
   "cell_type": "code",
   "source": [
    "s = SimulationParameters(1, \"hello\")"
   ],
   "metadata": {},
   "execution_count": null
  },
  {
   "cell_type": "markdown",
   "source": [
    "Unpacking the elements:"
   ],
   "metadata": {}
  },
  {
   "outputs": [],
   "cell_type": "code",
   "source": [
    "s.a\n",
    "s.b"
   ],
   "metadata": {},
   "execution_count": null
  },
  {
   "cell_type": "markdown",
   "source": [
    "Structs are mutable by default so it is not possible to change the data after construction. If this is a requirement there are mutable structs:"
   ],
   "metadata": {}
  },
  {
   "outputs": [],
   "cell_type": "code",
   "source": [
    "mutable struct MutableSimulationParameters\n",
    "    a::Int\n",
    "    b::String\n",
    "end\n",
    "\n",
    "m = MutableSimulationParameters(2, \"hi\")"
   ],
   "metadata": {},
   "execution_count": null
  },
  {
   "cell_type": "markdown",
   "source": [
    "Update field `a`:"
   ],
   "metadata": {}
  },
  {
   "outputs": [],
   "cell_type": "code",
   "source": [
    "m.a = 3"
   ],
   "metadata": {},
   "execution_count": null
  },
  {
   "cell_type": "markdown",
   "source": [
    "Verify that it has changed"
   ],
   "metadata": {}
  },
  {
   "outputs": [],
   "cell_type": "code",
   "source": [
    "m.a"
   ],
   "metadata": {},
   "execution_count": null
  },
  {
   "cell_type": "markdown",
   "source": [
    "Structs can be parametric. The parameter is a placeholder. In the example\n",
    "below we implement a new struct called `MyComplex` which has one template\n",
    "parameter `T`. Both the real and imaginary parts have type `T`. The value of\n",
    "`T` can be anything and is determined once an instance of the struct is\n",
    "created."
   ],
   "metadata": {}
  },
  {
   "outputs": [],
   "cell_type": "code",
   "source": [
    "struct MyComplex{T}\n",
    "    real::T\n",
    "    imag::T\n",
    "end"
   ],
   "metadata": {},
   "execution_count": null
  },
  {
   "cell_type": "markdown",
   "source": [
    "We can now construct a `MyComplex{Int}` by passing two values of type `Int`"
   ],
   "metadata": {}
  },
  {
   "outputs": [],
   "cell_type": "code",
   "source": [
    "MyComplex(1, 2)"
   ],
   "metadata": {},
   "execution_count": null
  },
  {
   "cell_type": "markdown",
   "source": [
    "But we can also construct a `MyComplex{String}` by passing two strings..."
   ],
   "metadata": {}
  },
  {
   "outputs": [],
   "cell_type": "code",
   "source": [
    "MyComplex(\"one\", \"two\")"
   ],
   "metadata": {},
   "execution_count": null
  },
  {
   "cell_type": "markdown",
   "source": [
    "It is possible to enforce certain relations between the parameters. For\n",
    "example, if we only want to allow `T` that are subtypes of `Real` (basically\n",
    "all real-valued number types such as `Float64`, `Int`, ...) we can use the\n",
    "subtype operator in the definition of the struct:"
   ],
   "metadata": {}
  },
  {
   "outputs": [],
   "cell_type": "code",
   "source": [
    "struct MyImprovedComplex{T <: Real}\n",
    "    real::T\n",
    "    imag::T\n",
    "end"
   ],
   "metadata": {},
   "execution_count": null
  },
  {
   "cell_type": "markdown",
   "source": [
    "These now work as expected:"
   ],
   "metadata": {}
  },
  {
   "outputs": [],
   "cell_type": "code",
   "source": [
    "MyImprovedComplex(1, 2)\n",
    "MyImprovedComplex(1.0, 2.0)"
   ],
   "metadata": {},
   "execution_count": null
  },
  {
   "cell_type": "markdown",
   "source": [
    "But this will fail, since `String <: Real` is false:"
   ],
   "metadata": {}
  },
  {
   "outputs": [],
   "cell_type": "code",
   "source": [
    "MyImprovedComplex(\"one\", \"two\")"
   ],
   "metadata": {},
   "execution_count": null
  },
  {
   "cell_type": "markdown",
   "source": [
    "### Loop constructs and control flow\n",
    "\n",
    "TODO: Link\n",
    "\n",
    "`for`-loops can be used to iterate over iterables, such as the range 1:n in\n",
    "the following example:"
   ],
   "metadata": {}
  },
  {
   "outputs": [],
   "cell_type": "code",
   "source": [
    "function say_hi(n)\n",
    "    for i in 1:n # loop from 1 to n in steps of 1\n",
    "        println(\"Hi, n = $i\")\n",
    "    end\n",
    "end\n",
    "\n",
    "say_hi(3)"
   ],
   "metadata": {},
   "execution_count": null
  },
  {
   "cell_type": "markdown",
   "source": [
    "`while`-loops run until the condition is false."
   ],
   "metadata": {}
  },
  {
   "outputs": [],
   "cell_type": "code",
   "source": [
    "function say_hi_while(n)\n",
    "    i = 1\n",
    "    while i <= n\n",
    "        println(\"Hi, n = $i\")\n",
    "        i += 1\n",
    "    end\n",
    "end\n",
    "\n",
    "say_hi_while(2)"
   ],
   "metadata": {},
   "execution_count": null
  },
  {
   "cell_type": "markdown",
   "source": [
    "To exit a loop early one can use `break`"
   ],
   "metadata": {}
  },
  {
   "outputs": [],
   "cell_type": "code",
   "source": [
    "while true\n",
    "    println(\"infinite loop!\")\n",
    "    break\n",
    "end"
   ],
   "metadata": {},
   "execution_count": null
  }
 ],
 "nbformat_minor": 3,
 "metadata": {
  "language_info": {
   "file_extension": ".jl",
   "mimetype": "application/julia",
   "name": "julia",
   "version": "1.9.2"
  },
  "kernelspec": {
   "name": "julia-1.9",
   "display_name": "Julia 1.9.2",
   "language": "julia"
  }
 },
 "nbformat": 4
}
