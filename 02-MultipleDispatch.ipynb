{
 "cells": [
  {
   "outputs": [],
   "cell_type": "code",
   "source": [
    "using InteractiveUtils"
   ],
   "metadata": {},
   "execution_count": null
  },
  {
   "cell_type": "markdown",
   "source": [
    "# Multiple dispatch"
   ],
   "metadata": {}
  },
  {
   "cell_type": "markdown",
   "source": [
    "## Functions and Methods\n",
    "\n",
    "Functions in Julia can have multiple *methods*. See for example the methods\n",
    "for the multiplication function *:"
   ],
   "metadata": {}
  },
  {
   "outputs": [],
   "cell_type": "code",
   "source": [
    "methods(*)"
   ],
   "metadata": {},
   "execution_count": null
  },
  {
   "cell_type": "markdown",
   "source": [
    "All these methods correspond to different implementations of *, for different\n",
    "argument type combinations. Julia dispatches based on the input types. The\n",
    "`@which` macro can be used to inspect which method will be called:"
   ],
   "metadata": {}
  },
  {
   "outputs": [],
   "cell_type": "code",
   "source": [
    "@which 2.0 * 4.0"
   ],
   "metadata": {},
   "execution_count": null
  },
  {
   "outputs": [],
   "cell_type": "code",
   "source": [
    "@which 2 * 4"
   ],
   "metadata": {},
   "execution_count": null
  },
  {
   "cell_type": "markdown",
   "source": [
    "We can implement a function `fn` with several methods:"
   ],
   "metadata": {}
  },
  {
   "outputs": [],
   "cell_type": "code",
   "source": [
    "function fn(x::Int, y::Int)\n",
    "    println(\"Int and Int\")\n",
    "end\n",
    "\n",
    "function fn(x::Float64, y::Float64)\n",
    "    println(\"Float64 and Float64\")\n",
    "end\n",
    "\n",
    "function fn(x::Int, y::Float64)\n",
    "    println(\"Int and Float64\")\n",
    "end\n",
    "\n",
    "function fn(x::Float64, y::Int)\n",
    "    println(\"Float64 and Int\")\n",
    "end"
   ],
   "metadata": {},
   "execution_count": null
  },
  {
   "cell_type": "markdown",
   "source": [
    "We can now call function fn and see which of the 4 methods is actually called:"
   ],
   "metadata": {}
  },
  {
   "outputs": [],
   "cell_type": "code",
   "source": [
    "fn(1, 2)"
   ],
   "metadata": {},
   "execution_count": null
  },
  {
   "outputs": [],
   "cell_type": "code",
   "source": [
    "fn(1.0, 2.0)"
   ],
   "metadata": {},
   "execution_count": null
  },
  {
   "outputs": [],
   "cell_type": "code",
   "source": [
    "fn(1, 2.0)"
   ],
   "metadata": {},
   "execution_count": null
  },
  {
   "outputs": [],
   "cell_type": "code",
   "source": [
    "fn(1.0, 2)"
   ],
   "metadata": {},
   "execution_count": null
  },
  {
   "cell_type": "markdown",
   "source": [
    "Trying to `fn` with any other combination of types will error:"
   ],
   "metadata": {}
  },
  {
   "outputs": [],
   "cell_type": "code",
   "source": [
    "fn(\"hello\", 2)"
   ],
   "metadata": {},
   "execution_count": null
  },
  {
   "cell_type": "markdown",
   "source": [
    "Skipping types in the function signatures is equivalent to using `::Any`. We\n",
    "can use this to define a catch-all method of `fn`:"
   ],
   "metadata": {}
  },
  {
   "outputs": [],
   "cell_type": "code",
   "source": [
    "function fn(x, y) # equivalent to fn(x::Any, y::Any)\n",
    "    println(\"Any and Any (but really $(typeof(x)) and $(typeof(y)))\")\n",
    "end"
   ],
   "metadata": {},
   "execution_count": null
  },
  {
   "cell_type": "markdown",
   "source": [
    "Now we can call `fn` with a String and an Vector, for example"
   ],
   "metadata": {}
  },
  {
   "outputs": [],
   "cell_type": "code",
   "source": [
    "fn(\"hello\", [1, 2, 3])"
   ],
   "metadata": {},
   "execution_count": null
  },
  {
   "cell_type": "markdown",
   "source": [
    "## More on types\n",
    "\n",
    "In the example above we used the type `Any`. `Any` is the *supertype* of all\n",
    "types. The subtype operator, `<:`, can be used to verify this:"
   ],
   "metadata": {}
  },
  {
   "outputs": [],
   "cell_type": "code",
   "source": [
    "Int <: Any"
   ],
   "metadata": {},
   "execution_count": null
  },
  {
   "outputs": [],
   "cell_type": "code",
   "source": [
    "String <: Any"
   ],
   "metadata": {},
   "execution_count": null
  },
  {
   "cell_type": "markdown",
   "source": [
    "However, `Any` isn't the only supertype in the hierarchy. The `supertype`\n",
    "function return the immediate supertype (i.e. the types \"parent\"), and the\n",
    "`supertypes` function return *all* supertypes:"
   ],
   "metadata": {}
  },
  {
   "outputs": [],
   "cell_type": "code",
   "source": [
    "supertype(Int)"
   ],
   "metadata": {},
   "execution_count": null
  },
  {
   "outputs": [],
   "cell_type": "code",
   "source": [
    "supertypes(Int)"
   ],
   "metadata": {},
   "execution_count": null
  },
  {
   "outputs": [],
   "cell_type": "code",
   "source": [
    "supertypes(Float64)"
   ],
   "metadata": {},
   "execution_count": null
  },
  {
   "cell_type": "markdown",
   "source": [
    "`Real` is a common ancestor of *both* `Int` and `Float64`. What happens if we\n",
    "throw some methods with `Real` into the mix:"
   ],
   "metadata": {}
  },
  {
   "outputs": [],
   "cell_type": "code",
   "source": [
    "function fn(x::Real, y::Int)\n",
    "    println(\"Real and Int (but really $(typeof(x)) and $(typeof(y)))\")\n",
    "end"
   ],
   "metadata": {},
   "execution_count": null
  },
  {
   "cell_type": "markdown",
   "source": [
    "If we again try to call `fn` with two `Int`s there are two candidate methods:\n",
    "\n",
    " - `fn(::Int,  ::Int)`\n",
    " - `fn(::Real, ::Int)`\n",
    "\n",
    "Which one will be picked?"
   ],
   "metadata": {}
  },
  {
   "outputs": [],
   "cell_type": "code",
   "source": [
    "fn(1, 2)"
   ],
   "metadata": {},
   "execution_count": null
  },
  {
   "cell_type": "markdown",
   "source": [
    "Julia picks *the most specific* method: in this case `Int` is more specific\n",
    "than `Real`."
   ],
   "metadata": {}
  },
  {
   "cell_type": "markdown",
   "source": [
    "There isn't always a most-specific method to pick. Consider for example\n",
    "`fn2`, with two methods:"
   ],
   "metadata": {}
  },
  {
   "outputs": [],
   "cell_type": "code",
   "source": [
    "fn2(x::Int, y::Real) = 1\n",
    "fn2(x::Real, y::Int) = 2\n",
    "\n",
    "fn2(1, 2)"
   ],
   "metadata": {},
   "execution_count": null
  },
  {
   "cell_type": "markdown",
   "source": [
    "Supertypes, sometimes called *abstract* types, can not have instances, they\n",
    "only exist in the type hierarchy, i.e., there is no `x` for which `typeof(x)`\n",
    "return a abstract type."
   ],
   "metadata": {}
  },
  {
   "cell_type": "markdown",
   "source": [
    "## Methods with abstract types"
   ],
   "metadata": {}
  },
  {
   "cell_type": "markdown",
   "source": [
    "Methods or functions can often be written in a generic way that works for\n",
    "many different subtypes. For example, to sum all the elements in a vector we\n",
    "only need to be able to iterate it. Thus, the example below is applicable to\n",
    "*all* subtypes of `AbstractVector`, not just the built in `Vector` type."
   ],
   "metadata": {}
  },
  {
   "outputs": [],
   "cell_type": "code",
   "source": [
    "function vecsum(x::AbstractVector)\n",
    "    s = zero(eltype(x))\n",
    "    for xi in x\n",
    "        s += xi # Equivalent to z = z + xi.\n",
    "    end\n",
    "    return s\n",
    "end"
   ],
   "metadata": {},
   "execution_count": null
  },
  {
   "cell_type": "markdown",
   "source": [
    "We can now sum a Vector{Int}"
   ],
   "metadata": {}
  },
  {
   "outputs": [],
   "cell_type": "code",
   "source": [
    "vecsum([1, 2, 3])"
   ],
   "metadata": {},
   "execution_count": null
  },
  {
   "cell_type": "markdown",
   "source": [
    "and a Vector{Float64}"
   ],
   "metadata": {}
  },
  {
   "outputs": [],
   "cell_type": "code",
   "source": [
    "vecsum([1.0, 2.0, 3.0])"
   ],
   "metadata": {},
   "execution_count": null
  },
  {
   "cell_type": "markdown",
   "source": [
    "or even a vector view of a matrix"
   ],
   "metadata": {}
  },
  {
   "outputs": [],
   "cell_type": "code",
   "source": [
    "A = [1 2; 3 4]"
   ],
   "metadata": {},
   "execution_count": null
  },
  {
   "outputs": [],
   "cell_type": "code",
   "source": [
    "vecview = @view A[2, :]"
   ],
   "metadata": {},
   "execution_count": null
  },
  {
   "outputs": [],
   "cell_type": "code",
   "source": [
    "typeof(vecview)"
   ],
   "metadata": {},
   "execution_count": null
  },
  {
   "outputs": [],
   "cell_type": "code",
   "source": [
    "typeof(vecview) <: AbstractVector"
   ],
   "metadata": {},
   "execution_count": null
  },
  {
   "outputs": [],
   "cell_type": "code",
   "source": [
    "vecview isa AbstractVector"
   ],
   "metadata": {},
   "execution_count": null
  },
  {
   "outputs": [],
   "cell_type": "code",
   "source": [
    "vecsum(vecview)"
   ],
   "metadata": {},
   "execution_count": null
  },
  {
   "cell_type": "markdown",
   "source": [
    "However, perhaps we should have limited the element type to be `<: Number`,\n",
    "because the following should probably not be allowed (it will still error,\n",
    "but later in the process):"
   ],
   "metadata": {}
  },
  {
   "outputs": [],
   "cell_type": "code",
   "source": [
    "vecsum([\"one\", \"two\"])"
   ],
   "metadata": {},
   "execution_count": null
  },
  {
   "cell_type": "markdown",
   "source": [
    "This could have been done by using the signature\n",
    "`vecsum(x::AbstractVector{T}) where {T <: Number}` for example."
   ],
   "metadata": {}
  },
  {
   "cell_type": "markdown",
   "source": [
    "## Rock, paper, scissors\n",
    "\n",
    "Let's implement a game using multiple dispatch!"
   ],
   "metadata": {}
  },
  {
   "cell_type": "markdown",
   "source": [
    "All weapons will have the supertype `Weapon`"
   ],
   "metadata": {}
  },
  {
   "outputs": [],
   "cell_type": "code",
   "source": [
    "abstract type Weapon end"
   ],
   "metadata": {},
   "execution_count": null
  },
  {
   "cell_type": "markdown",
   "source": [
    "And all weapons should implement a method of the function `stat`. We declare\n",
    "an empty function (no methods) for now."
   ],
   "metadata": {}
  },
  {
   "outputs": [],
   "cell_type": "code",
   "source": [
    "function stat end"
   ],
   "metadata": {},
   "execution_count": null
  },
  {
   "cell_type": "markdown",
   "source": [
    "We can now implement the first weapon"
   ],
   "metadata": {}
  },
  {
   "outputs": [],
   "cell_type": "code",
   "source": [
    "struct Rock <: Weapon\n",
    "    hardness::Float64\n",
    "end"
   ],
   "metadata": {},
   "execution_count": null
  },
  {
   "cell_type": "markdown",
   "source": [
    "Rock constructor. We define a new constructor with zero arguments that\n",
    "generate a random hardness."
   ],
   "metadata": {}
  },
  {
   "outputs": [],
   "cell_type": "code",
   "source": [
    "function Rock()\n",
    "    hardness = rand()\n",
    "    return Rock(hardness)\n",
    "end"
   ],
   "metadata": {},
   "execution_count": null
  },
  {
   "cell_type": "markdown",
   "source": [
    "We also define the required `stat` method to return the hardness"
   ],
   "metadata": {}
  },
  {
   "outputs": [],
   "cell_type": "code",
   "source": [
    "function stat(r::Rock)\n",
    "    return r.hardness\n",
    "end"
   ],
   "metadata": {},
   "execution_count": null
  },
  {
   "cell_type": "markdown",
   "source": [
    "The implementations of `Paper` and `Scissors` follow the same pattern:"
   ],
   "metadata": {}
  },
  {
   "outputs": [],
   "cell_type": "code",
   "source": [
    "struct Paper <: Weapon\n",
    "    thickness::Float64\n",
    "end\n",
    "function Paper()\n",
    "    thickness = rand()\n",
    "    return Paper(thickness)\n",
    "end\n",
    "function stat(p::Paper)\n",
    "    return p.thickness\n",
    "end\n",
    "\n",
    "struct Scissors <: Weapon\n",
    "    sharpness::Float64\n",
    "end\n",
    "function Scissors()\n",
    "    sharpness = rand()\n",
    "    return Scissors(sharpness)\n",
    "end\n",
    "function stat(s::Scissors)\n",
    "    return s.sharpness\n",
    "end"
   ],
   "metadata": {},
   "execution_count": null
  },
  {
   "cell_type": "markdown",
   "source": [
    "We now have to implement the interactions between the weapons. We do this by\n",
    "implementing methods of a function called `fight`.\n",
    "\n",
    "We now know how to implement methods for abstract types, so we can start by\n",
    "defining a fallback method to catch any errors. This method will be called\n",
    "unless there are any more specific matching methods of the `fight` function."
   ],
   "metadata": {}
  },
  {
   "outputs": [],
   "cell_type": "code",
   "source": [
    "function fight(w1::Weapon, w2::Weapon)\n",
    "    error(\"I do not know who wins in a fight between $(typeof(w1)) and $(typeof(w2)) :(\")\n",
    "end"
   ],
   "metadata": {},
   "execution_count": null
  },
  {
   "cell_type": "markdown",
   "source": [
    "We can try it already"
   ],
   "metadata": {}
  },
  {
   "outputs": [],
   "cell_type": "code",
   "source": [
    "fight(Rock(), Paper())"
   ],
   "metadata": {},
   "execution_count": null
  },
  {
   "cell_type": "markdown",
   "source": [
    "Now lets implement the interactions. We let each `fight` method return 1 if\n",
    "the first weapon wins and 2 if the second weapon wins. We start by\n",
    "implementing a method for when the same weapon meets the same weapon. We can\n",
    "write a generic method for this, because all weapons implement the `stat`\n",
    "function. Note that the method signature is different from the fallback since\n",
    "we here require *both* arguments to be of the *same* type (`W` can not mean\n",
    "two different things)."
   ],
   "metadata": {}
  },
  {
   "outputs": [],
   "cell_type": "code",
   "source": [
    "function fight(w1::W, w2::W) where {W <: Weapon}\n",
    "    if stat(w1) >= stat(w2)\n",
    "        return 1\n",
    "    else\n",
    "        return 2\n",
    "    end\n",
    "end"
   ],
   "metadata": {},
   "execution_count": null
  },
  {
   "cell_type": "markdown",
   "source": [
    "Now we just need to implement the remaining methods"
   ],
   "metadata": {}
  },
  {
   "cell_type": "markdown",
   "source": [
    "Rock vs Paper: Paper wins!"
   ],
   "metadata": {}
  },
  {
   "outputs": [],
   "cell_type": "code",
   "source": [
    "fight(r::Rock, p::Paper) = 2\n",
    "fight(p::Paper, r::Rock) = 1"
   ],
   "metadata": {},
   "execution_count": null
  },
  {
   "cell_type": "markdown",
   "source": [
    "Rock vs Scissors: Rock wins!"
   ],
   "metadata": {}
  },
  {
   "outputs": [],
   "cell_type": "code",
   "source": [
    "fight(r::Rock, s::Scissors) = 1\n",
    "fight(s::Scissors, r::Rock) = 2"
   ],
   "metadata": {},
   "execution_count": null
  },
  {
   "cell_type": "markdown",
   "source": [
    "Paper vs Scissors: Scissors wins!"
   ],
   "metadata": {}
  },
  {
   "outputs": [],
   "cell_type": "code",
   "source": [
    "fight(p::Paper, s::Scissors) = 2\n",
    "fight(s::Scissors, p::Paper) = 1"
   ],
   "metadata": {},
   "execution_count": null
  },
  {
   "cell_type": "markdown",
   "source": [
    "To help play the game we define a function to return a random weapon:"
   ],
   "metadata": {}
  },
  {
   "outputs": [],
   "cell_type": "code",
   "source": [
    "function random_weapon()\n",
    "    r = rand(1:3)\n",
    "    if r == 1\n",
    "        return Rock()\n",
    "    elseif r == 2\n",
    "        return Paper()\n",
    "    else # r == 3\n",
    "        return Scissors()\n",
    "    end\n",
    "end"
   ],
   "metadata": {},
   "execution_count": null
  },
  {
   "cell_type": "markdown",
   "source": [
    "Finally our main function, `game`, which plays `n_rounds` and prints out the winner"
   ],
   "metadata": {}
  },
  {
   "outputs": [],
   "cell_type": "code",
   "source": [
    "function game(n_rounds)\n",
    "    # Initialize players score\n",
    "    player1_score = 0\n",
    "    player2_score = 0\n",
    "    # Loop n_rounds times\n",
    "    for _ in 1:n_rounds\n",
    "        # Draw random weapons for each player\n",
    "        w1 = random_weapon()\n",
    "        w2 = random_weapon()\n",
    "        # Fight: compute the winner\n",
    "        winner = fight(w1, w2)\n",
    "        # Keep track of the scores\n",
    "        if winner == 1\n",
    "            player1_score += 1\n",
    "        elseif winner == 2\n",
    "            player2_score += 1\n",
    "        else\n",
    "            # Defensive programming; `fight` should never return anything but 1\n",
    "            # or 2, but you never know...\n",
    "            error(\"how did this happen?\")\n",
    "        end\n",
    "    end\n",
    "    # Print out the score and the winner\n",
    "    winner = player1_score >= player2_score ? 1 : 2\n",
    "    println(\"Final scores:\")\n",
    "    println(\" - Player 1: $(player1_score)\")\n",
    "    println(\" - Player 2: $(player2_score)\")\n",
    "    println(\"Player $winner wins the game!\")\n",
    "    return nothing\n",
    "end"
   ],
   "metadata": {},
   "execution_count": null
  },
  {
   "cell_type": "markdown",
   "source": [
    "Play the game!"
   ],
   "metadata": {}
  },
  {
   "outputs": [],
   "cell_type": "code",
   "source": [
    "game(1000)"
   ],
   "metadata": {},
   "execution_count": null
  },
  {
   "cell_type": "markdown",
   "source": [
    "### Exercise\n",
    "\n",
    "Extend the game in some way! For example make it so that fights, and the\n",
    "game, can end in a draw, or implement Rock, Paper, Scissors, Lizard, Spock by\n",
    "implementing two more weapons.\n",
    "\n",
    "\n",
    "![](rock-paper-scissors-lizard-spock.png)"
   ],
   "metadata": {}
  }
 ],
 "nbformat_minor": 3,
 "metadata": {
  "language_info": {
   "file_extension": ".jl",
   "mimetype": "application/julia",
   "name": "julia",
   "version": "1.9.2"
  },
  "kernelspec": {
   "name": "julia-1.9",
   "display_name": "Julia 1.9.2",
   "language": "julia"
  }
 },
 "nbformat": 4
}
